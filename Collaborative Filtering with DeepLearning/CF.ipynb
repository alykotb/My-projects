{
 "cells": [
  {
   "cell_type": "code",
   "execution_count": 4,
   "metadata": {},
   "outputs": [],
   "source": [
    "# load the necessary modules\n",
    "import numpy as np\n",
    "import argparse\n",
    "import pandas as pd\n",
    "import tensorflow as tf\n",
    "import pytorch_lightning as pl\n",
    "from pytorch_lightning.loggers import TensorBoardLogger\n",
    "import torch\n",
    "import torchmetrics\n",
    "from torchmetrics import Metric\n",
    "from torchmetrics import MeanSquaredError, Accuracy, MeanAbsoluteError\n",
    "from torch import embedding\n",
    "from torch.utils.data import Dataset, DataLoader, IterableDataset\n",
    "from sklearn import model_selection, preprocessing, metrics\n",
    "import matplotlib.pyplot as plt\n",
    "import random"
   ]
  },
  {
   "cell_type": "code",
   "execution_count": 5,
   "metadata": {},
   "outputs": [
    {
     "name": "stderr",
     "output_type": "stream",
     "text": [
      "D:\\Masters\\Semester1\\Machine Learning\\Machine Learning\\Codes\\ay7aga\\venv\\lib\\site-packages\\pandas\\io\\parsers.py:767: ParserWarning: Falling back to the 'python' engine because the 'c' engine does not support regex separators (separators > 1 char and different from '\\s+' are interpreted as regex); you can avoid this warning by specifying engine='python'.\n",
      "  return read_csv(**locals())\n"
     ]
    },
    {
     "data": {
      "text/html": [
       "<div>\n",
       "<style scoped>\n",
       "    .dataframe tbody tr th:only-of-type {\n",
       "        vertical-align: middle;\n",
       "    }\n",
       "\n",
       "    .dataframe tbody tr th {\n",
       "        vertical-align: top;\n",
       "    }\n",
       "\n",
       "    .dataframe thead th {\n",
       "        text-align: right;\n",
       "    }\n",
       "</style>\n",
       "<table border=\"1\" class=\"dataframe\">\n",
       "  <thead>\n",
       "    <tr style=\"text-align: right;\">\n",
       "      <th></th>\n",
       "      <th>user_id</th>\n",
       "      <th>movie_id</th>\n",
       "      <th>rating</th>\n",
       "      <th>timestamp</th>\n",
       "    </tr>\n",
       "  </thead>\n",
       "  <tbody>\n",
       "    <tr>\n",
       "      <th>0</th>\n",
       "      <td>1</td>\n",
       "      <td>1193</td>\n",
       "      <td>5</td>\n",
       "      <td>978300760</td>\n",
       "    </tr>\n",
       "    <tr>\n",
       "      <th>1</th>\n",
       "      <td>1</td>\n",
       "      <td>661</td>\n",
       "      <td>3</td>\n",
       "      <td>978302109</td>\n",
       "    </tr>\n",
       "    <tr>\n",
       "      <th>2</th>\n",
       "      <td>1</td>\n",
       "      <td>914</td>\n",
       "      <td>3</td>\n",
       "      <td>978301968</td>\n",
       "    </tr>\n",
       "  </tbody>\n",
       "</table>\n",
       "</div>"
      ],
      "text/plain": [
       "   user_id  movie_id  rating  timestamp\n",
       "0        1      1193       5  978300760\n",
       "1        1       661       3  978302109\n",
       "2        1       914       3  978301968"
      ]
     },
     "execution_count": 5,
     "metadata": {},
     "output_type": "execute_result"
    }
   ],
   "source": [
    "#extracting ratings from text file into a data frame\n",
    "df = pd.DataFrame()\n",
    "# df = pd.read_csv('ratings.csv', encoding='utf-8')\n",
    "df=pd.read_table('ratings.txt', delimiter = '::')\n",
    "df.head(3)"
   ]
  },
  {
   "cell_type": "code",
   "execution_count": 6,
   "metadata": {},
   "outputs": [],
   "source": [
    "#preprocessing\n",
    "\n",
    "# keeping only column that we want by droping timestamp column\n",
    "df = df[['user_id','movie_id','rating']]\n",
    "\n",
    "user_label_encoder  = preprocessing.LabelEncoder()\n",
    "movie_label_encoder = preprocessing.LabelEncoder()\n",
    "df.user_id  =  user_label_encoder.fit_transform(df.user_id.values)\n",
    "df.movie_id =  movie_label_encoder.fit_transform(df.movie_id.values)\n",
    "num_users =  len(user_label_encoder.classes_)\n",
    "num_movies = len(movie_label_encoder.classes_)\n",
    "\n",
    "\n",
    "# keeping only column that we want by droping timestamp column\n",
    "train_ratings = df.sample(frac=0.8) \n",
    "test_ratings  = df.drop(train_ratings.index)\n",
    "\n",
    "train_users  = train_ratings.user_id.values \n",
    "train_movies = train_ratings.movie_id.values\n",
    "train_labels = train_ratings.rating.values \n",
    "\n",
    "train_users  = torch.tensor(train_users) \n",
    "train_movies = torch.tensor(train_movies) \n",
    "train_labels = torch.tensor(train_labels)"
   ]
  },
  {
   "cell_type": "code",
   "execution_count": 7,
   "metadata": {},
   "outputs": [],
   "source": [
    "# a global variable that is initialized every training \n",
    "loss_history = []"
   ]
  },
  {
   "cell_type": "code",
   "execution_count": 8,
   "metadata": {},
   "outputs": [],
   "source": [
    "# defining the dataset class for our model\n",
    "\n",
    "class MoviesDataSet(Dataset):\n",
    "    def __init__(self, users, movies, ratings):\n",
    "        self.users = users\n",
    "        self.movies = movies\n",
    "        self.ratings = ratings\n",
    "    def __len__(self):\n",
    "        return len(self.users)\n",
    "    def __getitem__(self, idx):\n",
    "        return  self.users[idx] , self.movies[idx],  self.ratings[idx]  \n",
    "        "
   ]
  },
  {
   "cell_type": "code",
   "execution_count": 19,
   "metadata": {},
   "outputs": [],
   "source": [
    "# defining our collaborative filtering model\n",
    "\n",
    "class CollaborativeFiltering(pl.LightningModule):\n",
    "    def __init__(self, num_users, num_movies, user_training_tensor, movie_training_tensor, label_training_tensor,batch_size):\n",
    "        super().__init__()\n",
    "        self.users_tensor = user_training_tensor\n",
    "        self.movies_tensor = movie_training_tensor\n",
    "        self.labels_tensor = label_training_tensor\n",
    "        \n",
    "        \n",
    "        self.user_embedding  = torch.nn.Embedding(num_embeddings = num_users, embedding_dim =32)\n",
    "        self.movie_embedding = torch.nn.Embedding(num_embeddings = num_movies, embedding_dim =32)\n",
    "        self.output = torch.nn.Linear(64, 1)\n",
    "        \n",
    "        self.batch_size = batch_size\n",
    "        \n",
    "        # defining some metrics attributes\n",
    "        self.MSE = MeanSquaredError()\n",
    "        self.MAE = MeanAbsoluteError()\n",
    "        self.epoch_loss = 0\n",
    "        loss_history.clear() ##initiate loss history global variable\n",
    "        \n",
    "        \n",
    "    def forward(self, user_input, movie_input):\n",
    "        user_embedded = self.user_embedding(user_input)\n",
    "        movie_embedded = self.movie_embedding(movie_input) \n",
    "        emb_vector    = torch.cat([user_embedded,movie_embedded], dim=1)\n",
    "        pred = self.output(emb_vector)\n",
    "        return pred\n",
    "\n",
    "    def training_step(self, batch, batch_idx):\n",
    "        user_input, movie_input, labels = batch\n",
    "        batch_size = len(user_input)\n",
    "\n",
    "        predicted_labels = self.forward(user_input, movie_input)\n",
    "        labels = labels[:,None]\n",
    "        loss = torch.nn.MSELoss()(predicted_labels, labels.view(-1,1).float())\n",
    "        self.MSE(predicted_labels, labels.view(-1,1).float())\n",
    "        mse =  self.MSE(predicted_labels, labels.view(-1,1).float())\n",
    "        mae =  self.MAE(predicted_labels, labels.view(-1,1).float())\n",
    "        \n",
    "        self.log('mean_absolute_error', mae, prog_bar=True)\n",
    "        self.log('mean_squared_error', mse, prog_bar=True)\n",
    "        self.log('batch-size', batch_size, prog_bar=True)\n",
    "        self.log('epoch', self.current_epoch, prog_bar=True)\n",
    "\n",
    "        epoch = self.current_epoch+1.0\n",
    "        self.log('epoch', epoch, prog_bar=True)\n",
    "        self.epoch_loss = loss.cpu().detach().numpy()\n",
    "        \n",
    "        return loss\n",
    "    \n",
    "    def training_epoch_end(self, training_step_outputs):\n",
    "        array = np.array(self.epoch_loss)\n",
    "        loss_history.append(self.epoch_loss)\n",
    "        print(self.epoch_loss)\n",
    "\n",
    "         \n",
    "\n",
    "    def configure_optimizers(self):\n",
    "        return torch.optim.Adam(self.parameters())\n",
    "    \n",
    "    def train_dataloader(self):\n",
    "\n",
    "        return DataLoader(MoviesDataSet(self.users_tensor, self.movies_tensor, self.labels_tensor),batch_size =self.batch_size)"
   ]
  },
  {
   "cell_type": "code",
   "execution_count": 11,
   "metadata": {},
   "outputs": [],
   "source": [
    "# instanciating our collaborative filtering model from the defined class\n",
    "# model = CollaborativeFiltering(num_users, num_movies, train_users, train_movies, train_labels)"
   ]
  },
  {
   "cell_type": "code",
   "execution_count": 12,
   "metadata": {},
   "outputs": [],
   "source": [
    "# loss_history = tensor.detach.numpy(loss_history)\n",
    "def plot():\n",
    "    loss = np.array(loss_history)\n",
    "    plt.plot(loss)\n",
    "    plt.xlabel(\"epoch\")\n",
    "    plt.ylabel(\"loss\")\n",
    "    plt.title(\"Cost function\")\n",
    "    plt.show()"
   ]
  },
  {
   "cell_type": "code",
   "execution_count": 13,
   "metadata": {},
   "outputs": [],
   "source": [
    "# utilizing our model to make predictions\n",
    "\n",
    "moviesIds  = df['movie_id'].unique() #id must be inserted encoded also \n",
    "user_item_set = set(zip(df.user_id,df.movie_id)) # we need to use here the full range of ids \n",
    "users_interactions = df.groupby('user_id')['movie_id'].apply(list).to_dict()\n",
    "\n",
    "def get_user_pred_list(user):\n",
    "    user_interactions = list(users_interactions[user])\n",
    "    new_items_to_user = list(set(moviesIds)-set(user_interactions))\n",
    "    random_selected_new = list(np.random.choice(list(new_items_to_user), 99))\n",
    "    predicted_labels = np.squeeze(model(torch.tensor([user]*(len(random_selected_new))),\n",
    "                                   torch.tensor(random_selected_new)).detach().numpy())\n",
    "    top_5 = [random_selected_new[i] for i in np.argsort(predicted_labels)[::-1][0:5].tolist()]\n",
    "    predicted_movies_index = np.argsort(predicted_labels)\n",
    "    print(\"Movies recommendation list:\")\n",
    "    for i in range(0,5):\n",
    "        print(f\"Movie's id:{top_5[i]+1}\")"
   ]
  },
  {
   "cell_type": "code",
   "execution_count": 20,
   "metadata": {},
   "outputs": [
    {
     "name": "stdout",
     "output_type": "stream",
     "text": [
      "Enter the number of epochs:50\n",
      "Enter the batch-size:32\n"
     ]
    },
    {
     "name": "stderr",
     "output_type": "stream",
     "text": [
      "GPU available: False, used: False\n",
      "TPU available: False, using: 0 TPU cores\n",
      "IPU available: False, using: 0 IPUs\n",
      "HPU available: False, using: 0 HPUs\n",
      "\n",
      "  | Name            | Type              | Params\n",
      "------------------------------------------------------\n",
      "0 | user_embedding  | Embedding         | 193 K \n",
      "1 | movie_embedding | Embedding         | 118 K \n",
      "2 | output          | Linear            | 65    \n",
      "3 | MSE             | MeanSquaredError  | 0     \n",
      "4 | MAE             | MeanAbsoluteError | 0     \n",
      "------------------------------------------------------\n",
      "311 K     Trainable params\n",
      "0         Non-trainable params\n",
      "311 K     Total params\n",
      "1.248     Total estimated model params size (MB)\n",
      "D:\\Masters\\Semester1\\Machine Learning\\Machine Learning\\Codes\\ay7aga\\venv\\lib\\site-packages\\pytorch_lightning\\trainer\\connectors\\data_connector.py:245: PossibleUserWarning: The dataloader, train_dataloader, does not have many workers which may be a bottleneck. Consider increasing the value of the `num_workers` argument` (try 8 which is the number of cpus on this machine) in the `DataLoader` init to improve performance.\n",
      "  category=PossibleUserWarning,\n"
     ]
    },
    {
     "data": {
      "application/vnd.jupyter.widget-view+json": {
       "model_id": "ed5fb66dfd704cfd91ae07ee2cbf701a",
       "version_major": 2,
       "version_minor": 0
      },
      "text/plain": [
       "Training: 0it [00:00, ?it/s]"
      ]
     },
     "metadata": {},
     "output_type": "display_data"
    },
    {
     "name": "stdout",
     "output_type": "stream",
     "text": [
      "0.6158009\n",
      "0.6224493\n",
      "0.6138378\n",
      "0.60314476\n"
     ]
    },
    {
     "name": "stderr",
     "output_type": "stream",
     "text": [
      "D:\\Masters\\Semester1\\Machine Learning\\Machine Learning\\Codes\\ay7aga\\venv\\lib\\site-packages\\pytorch_lightning\\trainer\\trainer.py:724: UserWarning: Detected KeyboardInterrupt, attempting graceful shutdown...\n",
      "  rank_zero_warn(\"Detected KeyboardInterrupt, attempting graceful shutdown...\")\n"
     ]
    },
    {
     "data": {
      "image/png": "[encoded data removed]",
      "text/plain": [
       "<Figure size 432x288 with 1 Axes>"
      ]
     },
     "metadata": {
      "needs_background": "light"
     },
     "output_type": "display_data"
    }
   ],
   "source": [
    "ep = input(\"Enter the number of epochs:\")\n",
    "bs = input(\"Enter the batch-size:\")\n",
    "random.seed(0)\n",
    "np.random.seed(0)\n",
    "torch.manual_seed(0)\n",
    "\n",
    "model = CollaborativeFiltering(num_users, num_movies, train_users, train_movies, train_labels, int(bs))\n",
    "\n",
    "random.seed(0)\n",
    "np.random.seed(0)\n",
    "torch.manual_seed(0)\n",
    "\n",
    "trainer = pl.Trainer(max_epochs=int(ep))\n",
    "trainer.fit(model)\n",
    "plot()"
   ]
  },
  {
   "cell_type": "code",
   "execution_count": 15,
   "metadata": {},
   "outputs": [
    {
     "name": "stdout",
     "output_type": "stream",
     "text": [
      "[array(0.6158009, dtype=float32), array(0.6224493, dtype=float32), array(0.6138378, dtype=float32)]\n"
     ]
    }
   ],
   "source": [
    "print(loss_history)"
   ]
  },
  {
   "cell_type": "code",
   "execution_count": 18,
   "metadata": {},
   "outputs": [
    {
     "name": "stdout",
     "output_type": "stream",
     "text": [
      "Enter the user's id:3\n",
      "Movies recommendation list:\n",
      "Movie's id:310\n",
      "Movie's id:853\n",
      "Movie's id:3703\n",
      "Movie's id:1019\n",
      "Movie's id:209\n"
     ]
    }
   ],
   "source": [
    "user = input(\"Enter the user's id:\")\n",
    "get_user_pred_list(int(user)-1) ### because the model was trained on dataset in which the users and movies\n",
    "                                        ### were indexed begining from 0 (where id 1->0)"
   ]
  },
  {
   "cell_type": "code",
   "execution_count": null,
   "metadata": {},
   "outputs": [],
   "source": []
  }
 ],
 "metadata": {
  "kernelspec": {
   "display_name": "Python 3 (ipykernel)",
   "language": "python",
   "name": "python3"
  },
  "language_info": {
   "codemirror_mode": {
    "name": "ipython",
    "version": 3
   },
   "file_extension": ".py",
   "mimetype": "text/x-python",
   "name": "python",
   "nbconvert_exporter": "python",
   "pygments_lexer": "ipython3",
   "version": "3.7.0"
  }
 },
 "nbformat": 4,
 "nbformat_minor": 1
}
