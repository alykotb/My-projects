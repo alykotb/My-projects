{
 "cells": [
  {
   "cell_type": "code",
   "execution_count": 24,
   "metadata": {
    "id": "F9WdXXCknAk5"
   },
   "outputs": [],
   "source": [
    "import numpy as np\n",
    "import pandas as pd\n",
    "import random\n",
    "from sklearn import preprocessing\n",
    "from numpy.linalg import matrix_power"
   ]
  },
  {
   "cell_type": "markdown",
   "metadata": {
    "id": "Prhs_1eaRfld"
   },
   "source": [
    "Run the following notebook if you are using Google Colab"
   ]
  },
  {
   "cell_type": "code",
   "execution_count": null,
   "metadata": {},
   "outputs": [],
   "source": [
    "df = pd.DataFrame()\n",
    "path  = \"/content/drive/MyDrive/u.data\"\n",
    "df = pd.read_csv(path, sep=\"\\t\", header=None, names=['user_id','movie_id','rating','timestamp'])\n",
    "df.head()"
   ]
  },
  {
   "cell_type": "markdown",
   "metadata": {
    "id": "gwjkR6S4RwJr"
   },
   "source": [
    "Run the following notebook if you are running the notebook locally"
   ]
  },
  {
   "cell_type": "code",
   "execution_count": 26,
   "metadata": {},
   "outputs": [
    {
     "data": {
      "text/html": [
       "<div>\n",
       "<style scoped>\n",
       "    .dataframe tbody tr th:only-of-type {\n",
       "        vertical-align: middle;\n",
       "    }\n",
       "\n",
       "    .dataframe tbody tr th {\n",
       "        vertical-align: top;\n",
       "    }\n",
       "\n",
       "    .dataframe thead th {\n",
       "        text-align: right;\n",
       "    }\n",
       "</style>\n",
       "<table border=\"1\" class=\"dataframe\">\n",
       "  <thead>\n",
       "    <tr style=\"text-align: right;\">\n",
       "      <th></th>\n",
       "      <th>user_id</th>\n",
       "      <th>movie_id</th>\n",
       "      <th>rating</th>\n",
       "      <th>timestamp</th>\n",
       "    </tr>\n",
       "  </thead>\n",
       "  <tbody>\n",
       "    <tr>\n",
       "      <th>0</th>\n",
       "      <td>196</td>\n",
       "      <td>242</td>\n",
       "      <td>3</td>\n",
       "      <td>881250949</td>\n",
       "    </tr>\n",
       "    <tr>\n",
       "      <th>1</th>\n",
       "      <td>186</td>\n",
       "      <td>302</td>\n",
       "      <td>3</td>\n",
       "      <td>891717742</td>\n",
       "    </tr>\n",
       "    <tr>\n",
       "      <th>2</th>\n",
       "      <td>22</td>\n",
       "      <td>377</td>\n",
       "      <td>1</td>\n",
       "      <td>878887116</td>\n",
       "    </tr>\n",
       "    <tr>\n",
       "      <th>3</th>\n",
       "      <td>244</td>\n",
       "      <td>51</td>\n",
       "      <td>2</td>\n",
       "      <td>880606923</td>\n",
       "    </tr>\n",
       "    <tr>\n",
       "      <th>4</th>\n",
       "      <td>166</td>\n",
       "      <td>346</td>\n",
       "      <td>1</td>\n",
       "      <td>886397596</td>\n",
       "    </tr>\n",
       "  </tbody>\n",
       "</table>\n",
       "</div>"
      ],
      "text/plain": [
       "   user_id  movie_id  rating  timestamp\n",
       "0      196       242       3  881250949\n",
       "1      186       302       3  891717742\n",
       "2       22       377       1  878887116\n",
       "3      244        51       2  880606923\n",
       "4      166       346       1  886397596"
      ]
     },
     "execution_count": 26,
     "metadata": {},
     "output_type": "execute_result"
    }
   ],
   "source": [
    "df = pd.DataFrame()\n",
    "path  = \"u.data\"\n",
    "df = pd.read_csv(path, sep=\"\\t\", header=None, names=['user_id','movie_id','rating','timestamp'])\n",
    "df.head()"
   ]
  },
  {
   "cell_type": "code",
   "execution_count": 27,
   "metadata": {
    "id": "H256o93y1DMR"
   },
   "outputs": [],
   "source": [
    "#preprocessing\n",
    "random.seed(42)\n",
    "np.random.seed(42)\n",
    "\n",
    "df = df[['user_id','movie_id','rating']]\n",
    "\n",
    "user_label_encoder  = preprocessing.LabelEncoder()\n",
    "movie_label_encoder = preprocessing.LabelEncoder()\n",
    "df.user_id  =  user_label_encoder.fit_transform(df.user_id.values)\n",
    "df.movie_id =  movie_label_encoder.fit_transform(df.movie_id.values)\n",
    "num_users =  len(user_label_encoder.classes_)\n",
    "num_movies = len(movie_label_encoder.classes_)\n",
    "\n",
    "#taking the random test ratings\n",
    "\n",
    "\n",
    "random_sample_ratings = pd.DataFrame()\n",
    "\n",
    "# random_sample_ratings = df.sample(frac=0.1,random_state=1) \n",
    "\n",
    "for i in range (0,num_users):\n",
    "    random_sample_ratings = random_sample_ratings.append(df[df[\"user_id\"] == i].sample(frac=0.1,random_state=1))\n",
    "\n",
    "test_ratings = pd.DataFrame()\n",
    "dismissed_ratings = pd.DataFrame()\n",
    "\n",
    "for i in range(0,len(random_sample_ratings)):\n",
    "    if(random_sample_ratings.iloc[i]['rating']==5):\n",
    "        test_ratings = test_ratings.append(random_sample_ratings.iloc[i])\n",
    "    else:\n",
    "        dismissed_ratings =  dismissed_ratings.append(random_sample_ratings.iloc[i])\n",
    "\n",
    "#returning the non-five dropped ratings\n",
    "train_ratings = df.drop(test_ratings.index)"
   ]
  },
  {
   "cell_type": "code",
   "execution_count": 28,
   "metadata": {
    "colab": {
     "base_uri": "https://localhost:8080/"
    },
    "id": "pIxgRtgYC_K5",
    "outputId": "83504491-78d6-4b7f-e783-6538a0223b2a"
   },
   "outputs": [
    {
     "name": "stdout",
     "output_type": "stream",
     "text": [
      "943\n",
      "1682\n"
     ]
    }
   ],
   "source": [
    "# num of user and movies\n",
    "print(num_users)\n",
    "print(num_movies)"
   ]
  },
  {
   "cell_type": "code",
   "execution_count": 29,
   "metadata": {
    "colab": {
     "base_uri": "https://localhost:8080/",
     "height": 206
    },
    "id": "4dM6COQn_U7T",
    "outputId": "2bc43a1e-acb7-4c7d-d7cc-51b144d96d30"
   },
   "outputs": [
    {
     "data": {
      "text/html": [
       "<div>\n",
       "<style scoped>\n",
       "    .dataframe tbody tr th:only-of-type {\n",
       "        vertical-align: middle;\n",
       "    }\n",
       "\n",
       "    .dataframe tbody tr th {\n",
       "        vertical-align: top;\n",
       "    }\n",
       "\n",
       "    .dataframe thead th {\n",
       "        text-align: right;\n",
       "    }\n",
       "</style>\n",
       "<table border=\"1\" class=\"dataframe\">\n",
       "  <thead>\n",
       "    <tr style=\"text-align: right;\">\n",
       "      <th></th>\n",
       "      <th>user_id</th>\n",
       "      <th>movie_id</th>\n",
       "      <th>rating</th>\n",
       "    </tr>\n",
       "  </thead>\n",
       "  <tbody>\n",
       "    <tr>\n",
       "      <th>0</th>\n",
       "      <td>195</td>\n",
       "      <td>241</td>\n",
       "      <td>3</td>\n",
       "    </tr>\n",
       "    <tr>\n",
       "      <th>1</th>\n",
       "      <td>185</td>\n",
       "      <td>301</td>\n",
       "      <td>3</td>\n",
       "    </tr>\n",
       "    <tr>\n",
       "      <th>2</th>\n",
       "      <td>21</td>\n",
       "      <td>376</td>\n",
       "      <td>1</td>\n",
       "    </tr>\n",
       "    <tr>\n",
       "      <th>3</th>\n",
       "      <td>243</td>\n",
       "      <td>50</td>\n",
       "      <td>2</td>\n",
       "    </tr>\n",
       "    <tr>\n",
       "      <th>4</th>\n",
       "      <td>165</td>\n",
       "      <td>345</td>\n",
       "      <td>1</td>\n",
       "    </tr>\n",
       "  </tbody>\n",
       "</table>\n",
       "</div>"
      ],
      "text/plain": [
       "   user_id  movie_id  rating\n",
       "0      195       241       3\n",
       "1      185       301       3\n",
       "2       21       376       1\n",
       "3      243        50       2\n",
       "4      165       345       1"
      ]
     },
     "execution_count": 29,
     "metadata": {},
     "output_type": "execute_result"
    }
   ],
   "source": [
    "train_ratings.head()"
   ]
  },
  {
   "cell_type": "code",
   "execution_count": 30,
   "metadata": {
    "colab": {
     "base_uri": "https://localhost:8080/",
     "height": 206
    },
    "id": "BbkHUg80_OJ6",
    "outputId": "b9f3315b-d4ea-49d4-ccbc-991b75b5bde4"
   },
   "outputs": [
    {
     "data": {
      "text/html": [
       "<div>\n",
       "<style scoped>\n",
       "    .dataframe tbody tr th:only-of-type {\n",
       "        vertical-align: middle;\n",
       "    }\n",
       "\n",
       "    .dataframe tbody tr th {\n",
       "        vertical-align: top;\n",
       "    }\n",
       "\n",
       "    .dataframe thead th {\n",
       "        text-align: right;\n",
       "    }\n",
       "</style>\n",
       "<table border=\"1\" class=\"dataframe\">\n",
       "  <thead>\n",
       "    <tr style=\"text-align: right;\">\n",
       "      <th></th>\n",
       "      <th>movie_id</th>\n",
       "      <th>rating</th>\n",
       "      <th>user_id</th>\n",
       "    </tr>\n",
       "  </thead>\n",
       "  <tbody>\n",
       "    <tr>\n",
       "      <th>62069</th>\n",
       "      <td>190.0</td>\n",
       "      <td>5.0</td>\n",
       "      <td>0.0</td>\n",
       "    </tr>\n",
       "    <tr>\n",
       "      <th>47860</th>\n",
       "      <td>86.0</td>\n",
       "      <td>5.0</td>\n",
       "      <td>0.0</td>\n",
       "    </tr>\n",
       "    <tr>\n",
       "      <th>4280</th>\n",
       "      <td>81.0</td>\n",
       "      <td>5.0</td>\n",
       "      <td>0.0</td>\n",
       "    </tr>\n",
       "    <tr>\n",
       "      <th>1382</th>\n",
       "      <td>252.0</td>\n",
       "      <td>5.0</td>\n",
       "      <td>0.0</td>\n",
       "    </tr>\n",
       "    <tr>\n",
       "      <th>2328</th>\n",
       "      <td>63.0</td>\n",
       "      <td>5.0</td>\n",
       "      <td>0.0</td>\n",
       "    </tr>\n",
       "  </tbody>\n",
       "</table>\n",
       "</div>"
      ],
      "text/plain": [
       "       movie_id  rating  user_id\n",
       "62069     190.0     5.0      0.0\n",
       "47860      86.0     5.0      0.0\n",
       "4280       81.0     5.0      0.0\n",
       "1382      252.0     5.0      0.0\n",
       "2328       63.0     5.0      0.0"
      ]
     },
     "execution_count": 30,
     "metadata": {},
     "output_type": "execute_result"
    }
   ],
   "source": [
    "test_ratings.head()\n",
    "# print(len(test_ratings))"
   ]
  },
  {
   "cell_type": "code",
   "execution_count": 31,
   "metadata": {
    "id": "rYPM2oJh9wRI"
   },
   "outputs": [],
   "source": [
    "#constructing the users_items matrix\n",
    "users_items = np.zeros((num_users, num_movies))*1j\n",
    "for i in range(0,num_users):\n",
    "    user_ratings = train_ratings[train_ratings[\"user_id\"] == i]\n",
    "    for j in range(0,len(user_ratings)):\n",
    "        if(user_ratings.iloc[j]['rating']>=3):\n",
    "            users_items[i,int(user_ratings.iloc[j]['movie_id'])] = 1j\n",
    "        else:\n",
    "            users_items[i,int(user_ratings.iloc[j]['movie_id'])] = -1j"
   ]
  },
  {
   "cell_type": "code",
   "execution_count": 32,
   "metadata": {
    "id": "oGgGynIHNcZI"
   },
   "outputs": [],
   "source": [
    "#constructing the adjacency matrix\n",
    "items_users = -(1*users_items).T\n",
    "users_users = np.zeros((num_users,num_users))\n",
    "items_items = np.zeros((num_movies,num_movies))\n",
    "\n",
    "part1 = np.hstack((users_users,users_items))\n",
    "part2 = np.hstack((items_users,items_items))\n",
    "\n",
    "adjacency_matrix = np.vstack((part1,part2))"
   ]
  },
  {
   "cell_type": "code",
   "execution_count": 33,
   "metadata": {
    "colab": {
     "base_uri": "https://localhost:8080/"
    },
    "id": "WJyyrt0JDJ3G",
    "outputId": "0c212fa2-6f19-4db5-dd1f-407507e7a214"
   },
   "outputs": [
    {
     "name": "stdout",
     "output_type": "stream",
     "text": [
      "(2625, 2625)\n"
     ]
    }
   ],
   "source": [
    "print(adjacency_matrix.shape)"
   ]
  },
  {
   "cell_type": "code",
   "execution_count": 34,
   "metadata": {
    "colab": {
     "base_uri": "https://localhost:8080/"
    },
    "id": "UXc56Am-DbM4",
    "outputId": "93694742-caae-4979-f414-6fe847aaecd4"
   },
   "outputs": [
    {
     "name": "stdout",
     "output_type": "stream",
     "text": [
      "[[ 0.+0.j  0.+0.j  0.+0.j ...  0.+0.j  0.+0.j  0.+0.j]\n",
      " [ 0.+0.j  0.+0.j  0.+0.j ...  0.+0.j  0.+0.j  0.+0.j]\n",
      " [ 0.+0.j  0.+0.j  0.+0.j ...  0.+0.j  0.+0.j  0.+0.j]\n",
      " ...\n",
      " [-0.-0.j -0.-0.j -0.-0.j ...  0.+0.j  0.+0.j  0.+0.j]\n",
      " [-0.-0.j -0.-0.j -0.-0.j ...  0.+0.j  0.+0.j  0.+0.j]\n",
      " [-0.-0.j -0.-0.j -0.-0.j ...  0.+0.j  0.+0.j  0.+0.j]]\n"
     ]
    }
   ],
   "source": [
    "print(adjacency_matrix)"
   ]
  },
  {
   "cell_type": "code",
   "execution_count": 35,
   "metadata": {
    "id": "5co85vIaZBGo"
   },
   "outputs": [],
   "source": [
    "def calc_matrix_power(p):\n",
    "    CORLP_length =  matrix_power(adjacency_matrix,p)\n",
    "    print(\"CORLP Matrix\")\n",
    "    print(CORLP_length)\n",
    "    return CORLP_length"
   ]
  },
  {
   "cell_type": "code",
   "execution_count": 36,
   "metadata": {
    "id": "EW77aUoEQ3Xp"
   },
   "outputs": [],
   "source": [
    "# Finding out the non-rated items by any of the users\n",
    "unrated_movie_indexes = np.where(users_items==0)\n",
    "arr = np.array(unrated_movie_indexes)\n",
    "# print(arr.shape)\n",
    "# print(arr)\n",
    "unrated_movie_indexes = {}\n",
    "for A, B in zip(arr[0], arr[1]):\n",
    "    if A in unrated_movie_indexes:\n",
    "        unrated_movie_indexes[A].append(B)\n",
    "    else:\n",
    "        unrated_movie_indexes[A] = [B]        "
   ]
  },
  {
   "cell_type": "code",
   "execution_count": 41,
   "metadata": {
    "id": "zJgxvFOpRXpO"
   },
   "outputs": [],
   "source": [
    "# rankning the predictions\n",
    "def get_top_N_per_user(N,CORLP):\n",
    "    predictions_matrix = np.zeros((num_users,num_movies))*1j\n",
    "    predictions_matrix = CORLP[0:num_users,num_users:]\n",
    "    predictions = np.zeros((num_users,N))\n",
    "    movies = list(range(0, num_movies,1))\n",
    "    recommendations_sorted = (-predictions_matrix).argsort(axis=1)\n",
    "    for i in range (0,num_users):\n",
    "        mask   = np.isin(recommendations_sorted[i],unrated_movie_indexes[i])\n",
    "        # excluding from the recommendation list the previously rated ones by the user\n",
    "        user_recommendations = recommendations_sorted[i][mask]\n",
    "        top_N = user_recommendations[0:N]\n",
    "        predictions[i] = np.array(top_N)\n",
    "    return predictions"
   ]
  },
  {
   "cell_type": "code",
   "execution_count": 38,
   "metadata": {
    "id": "R3w9CZGObmQq"
   },
   "outputs": [],
   "source": [
    "def calc_hits_rate(predictions):\n",
    "    hits = 0 \n",
    "    for i in range (0,num_users):\n",
    "        user_ratings = test_ratings[test_ratings[\"user_id\"] == int(i)]\n",
    "        for j in range(0,predictions.shape[1]):\n",
    "            for k in range(0,len(user_ratings)):\n",
    "                if predictions[i,j] == user_ratings.iloc[k]['movie_id']:\n",
    "                    hits+= 1\n",
    "                    break\n",
    "  # print(hits)            \n",
    "    return hits         "
   ]
  },
  {
   "cell_type": "code",
   "execution_count": 39,
   "metadata": {
    "id": "j7tm2JBd4lTf"
   },
   "outputs": [],
   "source": [
    "def Evaluate_Model(top_n_length, path_length):\n",
    "    CORLP_length = calc_matrix_power(path_length)\n",
    "    preds = get_top_N_per_user(top_n_length,CORLP_length)\n",
    "    hits = calc_hits_rate(preds)\n",
    "    HitsRate = hits/len(test_ratings.index)\n",
    "    print(HitsRate)\n",
    "    print(\"Hits Rate is \"+str(HitsRate*100)+\" %\")   "
   ]
  },
  {
   "cell_type": "code",
   "execution_count": 40,
   "metadata": {
    "colab": {
     "base_uri": "https://localhost:8080/"
    },
    "id": "10MSSJEqBDWJ",
    "outputId": "59f8927e-c6d6-4bc4-b0a2-f36a83ae1229"
   },
   "outputs": [
    {
     "name": "stdout",
     "output_type": "stream",
     "text": [
      "Enter the path length:3\n",
      "Enter the length of top-N items:100\n",
      "CORLP Matrix\n",
      "[[0.  +0.j 0.  +0.j 0.  +0.j ... 0.  -6.j 0. +72.j 0.+117.j]\n",
      " [0.  +0.j 0.  +0.j 0.  +0.j ... 0. -11.j 0.  +8.j 0.  +9.j]\n",
      " [0.  +0.j 0.  +0.j 0.  +0.j ... 0.  +5.j 0.  -2.j 0.  +3.j]\n",
      " ...\n",
      " [0.  +6.j 0. +11.j 0.  -5.j ... 0.  +0.j 0.  +0.j 0.  +0.j]\n",
      " [0. -72.j 0.  -8.j 0.  +2.j ... 0.  +0.j 0.  +0.j 0.  +0.j]\n",
      " [0.-117.j 0.  -9.j 0.  -3.j ... 0.  +0.j 0.  +0.j 0.  +0.j]]\n",
      "0.6529356060606061\n",
      "Hits Rate is 65.29356060606061 %\n"
     ]
    }
   ],
   "source": [
    "path_length = input(\"Enter the path length:\")\n",
    "n = input(\"Enter the length of top-N items:\")\n",
    "Evaluate_Model(int(n), int(path_length))"
   ]
  }
 ],
 "metadata": {
  "colab": {
   "collapsed_sections": [],
   "name": "CORLP.ipynb",
   "provenance": []
  },
  "kernelspec": {
   "display_name": "Python 3 (ipykernel)",
   "language": "python",
   "name": "python3"
  },
  "language_info": {
   "codemirror_mode": {
    "name": "ipython",
    "version": 3
   },
   "file_extension": ".py",
   "mimetype": "text/x-python",
   "name": "python",
   "nbconvert_exporter": "python",
   "pygments_lexer": "ipython3",
   "version": "3.7.0"
  }
 },
 "nbformat": 4,
 "nbformat_minor": 1
}
